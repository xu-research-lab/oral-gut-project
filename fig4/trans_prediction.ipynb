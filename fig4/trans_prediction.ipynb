{
 "cells": [
  {
   "cell_type": "code",
   "execution_count": 870,
   "id": "fd153120-d5af-4d35-910e-8766bc8f8e51",
   "metadata": {},
   "outputs": [],
   "source": [
    "import numpy as np\n",
    "import pandas as pd\n",
    "from scipy.stats import mannwhitneyu\n",
    "from xgboost import XGBRegressor\n",
    "from sklearn.ensemble import RandomForestRegressor\n",
    "from sklearn.model_selection import KFold\n",
    "from sklearn.metrics import mean_squared_error, r2_score"
   ]
  },
  {
   "cell_type": "code",
   "execution_count": 21,
   "id": "af73dab8-2d8b-418d-8d1d-888271f2912b",
   "metadata": {},
   "outputs": [],
   "source": [
    "from scipy import stats"
   ]
  },
  {
   "cell_type": "code",
   "execution_count": null,
   "id": "eebb2089-1cf0-4ec3-b24b-93f6d3ca9bf9",
   "metadata": {},
   "outputs": [],
   "source": [
    "df = pd.read_csv(\"../data/test_data.csv\", index_col=0)"
   ]
  },
  {
   "cell_type": "code",
   "execution_count": 899,
   "id": "faa12dd3-79a8-4772-b6e5-9825b7335872",
   "metadata": {},
   "outputs": [],
   "source": [
    "model = XGBRegressor(n_estimators=500, learning_rate=0.1, max_depth=3,subsample=0.6,\n",
    "                     colsample_bytree=0.6, random_state=42)"
   ]
  },
  {
   "cell_type": "code",
   "execution_count": 900,
   "id": "57abe2a5-b9b1-4704-91c3-5ce6a5c6ba23",
   "metadata": {},
   "outputs": [
    {
     "name": "stdout",
     "output_type": "stream",
     "text": [
      "Fold 1: MSE = 65.9696, R2 = 0.4051\n",
      "Fold 2: MSE = 24.9034, R2 = 0.6443\n",
      "Fold 3: MSE = 13.2042, R2 = 0.7763\n",
      "Fold 4: MSE = 11.8659, R2 = 0.7943\n",
      "Fold 5: MSE = 20.5118, R2 = 0.6758\n",
      "\n",
      "Overall Performance:\n",
      "MSE: 27.2910\n",
      "R2 Score: 0.6237\n"
     ]
    }
   ],
   "source": [
    "X = df.iloc[:, 1:].values\n",
    "y = df.iloc[:, 0].values \n",
    "kf = KFold(n_splits=5, shuffle=True, random_state=22)\n",
    "\n",
    "# 存储每一折的预测结果和真实值\n",
    "all_predictions = []\n",
    "all_true_values = []\n",
    "fold_info = []\n",
    "\n",
    "# 进行交叉验证\n",
    "for fold, (train_idx, test_idx) in enumerate(kf.split(X), 1):\n",
    "    X_train, X_test = X[train_idx], X[test_idx]\n",
    "    y_train, y_test = y[train_idx], y[test_idx]\n",
    "    \n",
    "    # 训练模型\n",
    "    model.fit(X_train, y_train)\n",
    "    \n",
    "    # 预测\n",
    "    y_pred = model.predict(X_test)\n",
    "    \n",
    "    # 计算评估指标\n",
    "    mse = mean_squared_error(y_test, y_pred)\n",
    "    r2 = r2_score(y_test, y_pred)\n",
    "    \n",
    "    print(f\"Fold {fold}: MSE = {mse:.4f}, R2 = {r2:.4f}\")\n",
    "    \n",
    "    # 保存当前折的预测结果和真实值\n",
    "    fold_results = pd.DataFrame({\n",
    "        'Fold': fold,\n",
    "        'True_Value': y_test,\n",
    "        'Predicted_Value': y_pred,\n",
    "        'Sample_Index': test_idx  # 保存原始数据索引以便后续分析\n",
    "    })\n",
    "    \n",
    "    all_predictions.append(y_pred)\n",
    "    all_true_values.append(y_test)\n",
    "    fold_info.append(fold_results)\n",
    "\n",
    "# 合并所有折的结果\n",
    "all_results = pd.concat(fold_info, axis=0).sort_values('Sample_Index')\n",
    "\n",
    "# 计算整体评估指标\n",
    "final_mse = mean_squared_error(all_results['True_Value'], all_results['Predicted_Value'])\n",
    "final_r2 = r2_score(all_results['True_Value'], all_results['Predicted_Value'])\n",
    "\n",
    "print(\"\\nOverall Performance:\")\n",
    "print(f\"MSE: {final_mse:.4f}\")\n",
    "print(f\"R2 Score: {final_r2:.4f}\")"
   ]
  }
 ],
 "metadata": {
  "kernelspec": {
   "display_name": "Python 3 (ipykernel)",
   "language": "python",
   "name": "python3"
  },
  "language_info": {
   "codemirror_mode": {
    "name": "ipython",
    "version": 3
   },
   "file_extension": ".py",
   "mimetype": "text/x-python",
   "name": "python",
   "nbconvert_exporter": "python",
   "pygments_lexer": "ipython3",
   "version": "3.9.20"
  }
 },
 "nbformat": 4,
 "nbformat_minor": 5
}
